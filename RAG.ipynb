{
 "cells": [
  {
   "cell_type": "code",
   "execution_count": null,
   "metadata": {},
   "outputs": [],
   "source": [
    "from bs4 import BeautifulSoup\n",
    "from llama_index.llms.openai import OpenAI\n",
    "from llama_index.llms.anthropic import Anthropic\n",
    "from llama_index.core import Settings\n",
    "from llama_index.core import VectorStoreIndex, SimpleDirectoryReader\n",
    "import nest_asyncio\n",
    "import requests\n",
    "import os\n",
    "\n",
    "from llama_parse import LlamaParse\n",
    "#nest_asyncio.apply()\n",
    "from llama_index import SimpleDirectoryReader"
   ]
  },
  {
   "cell_type": "code",
   "execution_count": null,
   "metadata": {},
   "outputs": [],
   "source": [
    "#nest_asyncio.apply()\n",
    "#from google.colab import userdata\n",
    "\n",
    "\n",
    "OPENAI_API_KEY = os.getenv('OPENAI_API_KEY')\n",
    "LLAMAPARSE_API_KEY = os.getenv('LLAMAPARSE_API_KEY')\n",
    "ANTHROPIC_API_KEY = os.getenv(\"CLAUDE_API_KEY\")"
   ]
  },
  {
   "cell_type": "code",
   "execution_count": null,
   "metadata": {},
   "outputs": [],
   "source": [
    "embed_model = \"local:BAAI/bge-small-en-v1.5\" #https://huggingface.co/collections/BAAI/bge-66797a74476eb1f085c7446d\n",
    "\n",
    "documents = \" \"\n",
    "\n",
    "vector_index_std = VectorStoreIndex(documents, embed_model = embed_model)\n",
    "\n",
    "\n",
    "llm_gpt35 = OpenAI(model=\"gpt-3.5-turbo\", api_key = OPENAI_API_KEY)\n",
    "query_engine_gpt35 = vector_index_std.as_query_engine(similarity_top_k=3, llm=llm_gpt35)\n",
    "\n",
    "llm_gpt4o = OpenAI(model=\"gpt-4o\", api_key = OPENAI_API_KEY)\n",
    "query_engine_gpt4o = vector_index_std.as_query_engine(similarity_top_k=3, llm=llm_gpt4o)\n",
    "\n",
    "\n",
    "tokenizer = Anthropic().tokenizer\n",
    "Settings.tokenizer = tokenizer\n",
    "\n",
    "llm_claude = Anthropic(model=\"claude-3-5-sonnet-20240620\", api_key=ANTHROPIC_API_KEY)\n",
    "query_engine_claude = vector_index_std.as_query_engine(similarity_top_k=3, llm=llm_claude)"
   ]
  },
  {
   "cell_type": "code",
   "execution_count": null,
   "metadata": {},
   "outputs": [],
   "source": [
    "query1 = \"Is this news story about politics, global events\"\n",
    "response = query_engine_gpt35.query(query1)\n",
    "print(\"GPT-3.5 Turbo\")\n",
    "print(str(response))"
   ]
  },
  {
   "cell_type": "code",
   "execution_count": null,
   "metadata": {},
   "outputs": [],
   "source": [
    "import re\n",
    "test_string = \"blah_NeverGuessMe1\"\n",
    "has_upper = any(c.isupper() for c in test_string)\n",
    "has_number = bool(re.search(r'\\d', test_string))\n",
    "has_special = bool(re.search(r'[!@#$%^&*(),.?\":{}|<>]', test_string))"
   ]
  }
 ],
 "metadata": {
  "kernelspec": {
   "display_name": "Python 3",
   "language": "python",
   "name": "python3"
  },
  "language_info": {
   "name": "python",
   "version": "3.12.5 (v3.12.5:ff3bc82f7c9, Aug  7 2024, 05:32:06) [Clang 13.0.0 (clang-1300.0.29.30)]"
  },
  "vscode": {
   "interpreter": {
    "hash": "aee8b7b246df8f9039afb4144a1f6fd8d2ca17a180786b69acc140d282b71a49"
   }
  }
 },
 "nbformat": 4,
 "nbformat_minor": 2
}
